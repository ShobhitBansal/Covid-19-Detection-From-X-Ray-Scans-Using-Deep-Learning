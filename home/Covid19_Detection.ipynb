{
 "cells": [
  {
   "cell_type": "code",
   "execution_count": 2,
   "metadata": {},
   "outputs": [],
   "source": [
    "import numpy  as np\n",
    "from keras.preprocessing import image\n",
    "from pathlib import Path\n",
    "from keras.models import load_model\n",
    "import pickle"
   ]
  },
  {
   "cell_type": "code",
   "execution_count": 3,
   "metadata": {},
   "outputs": [
    {
     "name": "stdout",
     "output_type": "stream",
     "text": [
      "covid-19-pneumonia-28.png\n",
      "covid-19-pneumonia-30-PA.jpg\n",
      "covid-19-pneumonia-34.png\n",
      "covid-19-pneumonia-38-pa.jpg\n",
      "NORMAL2-IM-1228-0001.jpeg\n",
      "NORMAL2-IM-1237-0001.jpeg\n",
      "NORMAL2-IM-1240-0001.jpeg\n",
      "NORMAL2-IM-1275-0001.jpeg\n",
      "Number of images:  8\n"
     ]
    }
   ],
   "source": [
    "p = Path(\"./sample_images\")\n",
    "\n",
    "img_name = []\n",
    "data = []\n",
    "cnt = 0\n",
    "for imgs in p.glob(\"*\"):\n",
    "    name = str(imgs).split(\"\\\\\")[-1]\n",
    "    print(name)\n",
    "    img_name.append(name)\n",
    "    img = image.load_img(imgs,target_size=(224,224))\n",
    "    img = image.img_to_array(img)\n",
    "    data.append(img)\n",
    "\n",
    "print(\"Number of images: \",len(data))"
   ]
  },
  {
   "cell_type": "code",
   "execution_count": 4,
   "metadata": {},
   "outputs": [
    {
     "name": "stdout",
     "output_type": "stream",
     "text": [
      "8\n"
     ]
    }
   ],
   "source": [
    "Xtest = np.array(data)\n",
    "print(len(Xtest))"
   ]
  },
  {
   "cell_type": "code",
   "execution_count": 6,
   "metadata": {},
   "outputs": [],
   "source": [
    "model = load_model(\"./model/covid_model.hdf5\")"
   ]
  },
  {
   "cell_type": "code",
   "execution_count": 7,
   "metadata": {},
   "outputs": [],
   "source": [
    "output = model.predict(Xtest)"
   ]
  },
  {
   "cell_type": "code",
   "execution_count": 8,
   "metadata": {},
   "outputs": [],
   "source": [
    "reverse_dict = {0:'Covid', 1:'Normal'}"
   ]
  },
  {
   "cell_type": "code",
   "execution_count": 9,
   "metadata": {},
   "outputs": [],
   "source": [
    "result = []\n",
    "output = output.astype('int')\n",
    "for i in range(output.shape[0]):\n",
    "    if output[i]>0.5:\n",
    "        result.append('Normal')\n",
    "    else:\n",
    "        result.append('Covid')"
   ]
  },
  {
   "cell_type": "code",
   "execution_count": 10,
   "metadata": {},
   "outputs": [
    {
     "name": "stdout",
     "output_type": "stream",
     "text": [
      "covid-19-pneumonia-28.png  :  Covid\n",
      "covid-19-pneumonia-30-PA.jpg  :  Covid\n",
      "covid-19-pneumonia-34.png  :  Covid\n",
      "covid-19-pneumonia-38-pa.jpg  :  Covid\n",
      "NORMAL2-IM-1228-0001.jpeg  :  Normal\n",
      "NORMAL2-IM-1237-0001.jpeg  :  Normal\n",
      "NORMAL2-IM-1240-0001.jpeg  :  Normal\n",
      "NORMAL2-IM-1275-0001.jpeg  :  Covid\n"
     ]
    }
   ],
   "source": [
    "for i in range(len(img_name)):\n",
    "    print(img_name[i],\" : \",result[i])"
   ]
  },
  {
   "cell_type": "code",
   "execution_count": null,
   "metadata": {},
   "outputs": [],
   "source": []
  }
 ],
 "metadata": {
  "kernelspec": {
   "display_name": "Python 3",
   "language": "python",
   "name": "python3"
  },
  "language_info": {
   "codemirror_mode": {
    "name": "ipython",
    "version": 3
   },
   "file_extension": ".py",
   "mimetype": "text/x-python",
   "name": "python",
   "nbconvert_exporter": "python",
   "pygments_lexer": "ipython3",
   "version": "3.7.6"
  }
 },
 "nbformat": 4,
 "nbformat_minor": 4
}
